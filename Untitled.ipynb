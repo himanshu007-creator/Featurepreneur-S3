{
 "cells": [
  {
   "cell_type": "code",
   "execution_count": 1,
   "id": "b932e47c",
   "metadata": {},
   "outputs": [],
   "source": [
    "from jina import Flow, Executor, requests, Document, DocumentArray\n",
    "import pandas as pd\n",
    "import numpy as np"
   ]
  },
  {
   "cell_type": "code",
   "execution_count": 2,
   "id": "f72ba446",
   "metadata": {},
   "outputs": [],
   "source": [
    "df=pd.read_csv('Games.csv')\n",
    "df= df.drop_duplicates().dropna()"
   ]
  },
  {
   "cell_type": "code",
   "execution_count": 3,
   "id": "7ca0c28d",
   "metadata": {},
   "outputs": [
    {
     "data": {
      "text/html": [
       "<div>\n",
       "<style scoped>\n",
       "    .dataframe tbody tr th:only-of-type {\n",
       "        vertical-align: middle;\n",
       "    }\n",
       "\n",
       "    .dataframe tbody tr th {\n",
       "        vertical-align: top;\n",
       "    }\n",
       "\n",
       "    .dataframe thead th {\n",
       "        text-align: right;\n",
       "    }\n",
       "</style>\n",
       "<table border=\"1\" class=\"dataframe\">\n",
       "  <thead>\n",
       "    <tr style=\"text-align: right;\">\n",
       "      <th></th>\n",
       "      <th>Console</th>\n",
       "      <th>GameName</th>\n",
       "      <th>Review</th>\n",
       "      <th>Score</th>\n",
       "    </tr>\n",
       "  </thead>\n",
       "  <tbody>\n",
       "    <tr>\n",
       "      <th>0</th>\n",
       "      <td>PC</td>\n",
       "      <td>Baldur's Gate 3 Early Access Review</td>\n",
       "      <td>Early Access</td>\n",
       "      <td>6</td>\n",
       "    </tr>\n",
       "    <tr>\n",
       "      <th>1</th>\n",
       "      <td>NS</td>\n",
       "      <td>Control: Ultimate Edition Cloud Version Review</td>\n",
       "      <td>Good</td>\n",
       "      <td>7</td>\n",
       "    </tr>\n",
       "    <tr>\n",
       "      <th>2</th>\n",
       "      <td>XONE, PC, PS4</td>\n",
       "      <td>Doom Eternal: The Ancient Gods Part 1 Review</td>\n",
       "      <td>Good</td>\n",
       "      <td>7</td>\n",
       "    </tr>\n",
       "    <tr>\n",
       "      <th>3</th>\n",
       "      <td>XONE, PC, PS4</td>\n",
       "      <td>Watch Dogs: Legion Review</td>\n",
       "      <td>Great</td>\n",
       "      <td>8</td>\n",
       "    </tr>\n",
       "    <tr>\n",
       "      <th>4</th>\n",
       "      <td>PC</td>\n",
       "      <td>Ring Of Pain Review</td>\n",
       "      <td>Great</td>\n",
       "      <td>8</td>\n",
       "    </tr>\n",
       "  </tbody>\n",
       "</table>\n",
       "</div>"
      ],
      "text/plain": [
       "         Console                                        GameName  \\\n",
       "0             PC             Baldur's Gate 3 Early Access Review   \n",
       "1             NS  Control: Ultimate Edition Cloud Version Review   \n",
       "2  XONE, PC, PS4    Doom Eternal: The Ancient Gods Part 1 Review   \n",
       "3  XONE, PC, PS4                       Watch Dogs: Legion Review   \n",
       "4             PC                             Ring Of Pain Review   \n",
       "\n",
       "         Review  Score  \n",
       "0  Early Access      6  \n",
       "1          Good      7  \n",
       "2          Good      7  \n",
       "3         Great      8  \n",
       "4         Great      8  "
      ]
     },
     "execution_count": 3,
     "metadata": {},
     "output_type": "execute_result"
    }
   ],
   "source": [
    "df.head()"
   ]
  },
  {
   "cell_type": "code",
   "execution_count": 4,
   "id": "c0362621",
   "metadata": {},
   "outputs": [
    {
     "data": {
      "text/html": [
       "<img src=\"https://mermaid.ink/svg/JSV7aW5pdDogeyd0aGVtZSc6ICdiYXNlJywgJ3RoZW1lVmFyaWFibGVzJzogeyAncHJpbWFyeUNvbG9yJzogJyNGRkM2NjYnfX19JSUKICAgICAgICAgICAgICAgICAgICAgICAgICAgICAgICAgICAgICAgIGNsYXNzRGlhZ3JhbQoKICAgICAgICAgICAgICAgICAgICAgICAgICAgICAgICAgICAgICAgICAgICAgICAgY2xhc3MgMzc1fkRvY3VtZW50fnsKK2lkIDkxODdjYWQwLTMKK3VyaSBwYXRoCn0=\"/>"
      ],
      "text/plain": [
       "<IPython.core.display.Image object>"
      ]
     },
     "metadata": {},
     "output_type": "display_data"
    }
   ],
   "source": [
    "Document(text =\"text\")\n",
    "Document(content =\"content\")\n",
    "Document(uri = \"path\" )"
   ]
  },
  {
   "cell_type": "code",
   "execution_count": 5,
   "id": "29017e97",
   "metadata": {},
   "outputs": [],
   "source": [
    "docs = DocumentArray()\n",
    "for ind in range(df.shape[0]):\n",
    "    name = df.iloc[ind,1]\n",
    "    desc = df.iloc[ind,2]\n",
    "    rating = df.iloc[ind,3]\n",
    "    # print(name,\"-\",desc,\"\\n\")\n",
    "    doc = Document(text=name)\n",
    "    doc.tags['Review'] = desc\n",
    "    docs.append(doc)"
   ]
  },
  {
   "cell_type": "code",
   "execution_count": 6,
   "id": "7ae5edff",
   "metadata": {},
   "outputs": [],
   "source": [
    "flow = (\n",
    "    Flow()\n",
    "    .add(uses='jinahub+docker://SpacyTextEncoder')\n",
    "    .add(uses='jinahub+docker://SimpleIndexer')\n",
    "    .add().plot('f.svg')\n",
    ")"
   ]
  },
  {
   "cell_type": "code",
   "execution_count": null,
   "id": "18a80410",
   "metadata": {},
   "outputs": [],
   "source": [
    "with flow:\n",
    "        flow.index(inputs=docs)"
   ]
  },
  {
   "cell_type": "code",
   "execution_count": null,
   "id": "62098509",
   "metadata": {},
   "outputs": [],
   "source": [
    "text=input(\"Game Name:\")\n",
    "with flow:\n",
    "    response = flow.search(inputs=text, return_results=True)"
   ]
  },
  {
   "cell_type": "code",
   "execution_count": null,
   "id": "093001aa",
   "metadata": {},
   "outputs": [],
   "source": [
    "matches = response[0].data.docs[0].matches\n",
    "\n",
    "print(\"Your search results\")\n",
    "print(\"-------------------\\n\")\n",
    "i=0"
   ]
  },
  {
   "cell_type": "code",
   "execution_count": null,
   "id": "2503b117",
   "metadata": {},
   "outputs": [],
   "source": [
    "for match in matches:\n",
    "    i+=1\n",
    "    if(i==1):\n",
    "        print(\"Closest Match for\",match.text,\"Review : \", match.tags.fields['Review'].string_value,\"\\n\")\n",
    "    else:\n",
    "        print(\"Similar Query\",i)\n",
    "        print(\"-------------------\\n\")\n",
    "        print(match.tags.fields['Review'].string_value)"
   ]
  },
  {
   "cell_type": "code",
   "execution_count": null,
   "id": "974c8cc5",
   "metadata": {},
   "outputs": [],
   "source": []
  }
 ],
 "metadata": {
  "kernelspec": {
   "display_name": "Python 3 (ipykernel)",
   "language": "python",
   "name": "python3"
  },
  "language_info": {
   "codemirror_mode": {
    "name": "ipython",
    "version": 3
   },
   "file_extension": ".py",
   "mimetype": "text/x-python",
   "name": "python",
   "nbconvert_exporter": "python",
   "pygments_lexer": "ipython3",
   "version": "3.9.7"
  }
 },
 "nbformat": 4,
 "nbformat_minor": 5
}
